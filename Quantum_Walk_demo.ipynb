{
 "cells": [
  {
   "cell_type": "markdown",
   "id": "abc2152c",
   "metadata": {},
   "source": [
    "# 📘 Quantum Walk — Definition, Circuit, and Minimal Examples\n",
    "\n",
    "## What is a quantum walk?\n",
    "\n",
    "The concept of a random walk has existed in mathematics for centuries. Consising on a stochastic process by which a variable changes randomly in successive steps, they have applications in computer science, economics, and game theory among others. Their most representative application in physics is in Markovian chains, where they help simulate a large array of phenomena, from atomic interactions, to galaxy dynamics. \n",
    "\n",
    "In it's most simple version, we can imagine a random walk in one dimension, where a particle located in a chain, moves either to the left, or to the right with equal probability at every time step. With the emergence of quantum information theory and quantum computing, the concept of random walk was extended to quantum systems and quantum walks were defined. \n",
    "\n",
    "The first immediate result when studying the random walk described above, is that the proability distribution of finding the classical particle at a given time follows a Gaussian distribution, centered at the origin of the walk. However, as we will see in this notebook, the quantum counterpart behaves quite differently.\n",
    "\n",
    "Let's take a simple example of a one-dimensional quantum walk. $\\lvert n \\rangle$ will be a state in a given timestep $t$. We want to apply a shift operator $S$ to it such that at time $t+1$ the state is\n",
    "$$\n",
    "a\\lvert n -1 \\rangle + b\\lvert n+1 \\rangle\n",
    "$$\n",
    "Which means that it moves left with an amplitude $a$, or right with an amplitude $b$, and $a$ and $b$ are independent of $n$. However, imposing unitatity on this operation implies that either $a=1, b=0$, or $a=0, b=1$ [2]. We can solve this by introducing an auxilliary state, the \"coin\" that can take values 0 or 1, and work with the two states $\\lvert n, 0 \\rangle$ and $\\lvert n, 1 \\rangle$. \n",
    "Then we will require that the shift operator acts in like this:\n",
    "\n",
    "$$\n",
    "S\\lvert n, 0 \\rangle = \\lvert n-1, 0 \\rangle, \\qquad S\\lvert n, 1 \\rangle = \\lvert n+1, 1 \\rangle\n",
    "$$\n",
    "\n",
    "\n",
    "When simulating the process with a quantum computer, the initial state of the system will tipically be $\\lvert n, 0 \\rangle$, so to create a superposition in the coin state we will define a coin operator $C$. There is a lot of freedom with the choice of $C$, and it will significantly impact the results of the quantum walk. As a first example however, we will simply use a Hadamard gate such that\n",
    "\n",
    "$$\n",
    "H\\lvert n, 0 \\rangle =  \\frac{1}{\\sqrt{2}}\\lvert n, 0 \\rangle + \\frac{1}{\\sqrt{2}}\\lvert n, 1 \\rangle \n",
    "$$\n",
    "\n",
    "Then, the quantum walk algorithm will be a succession of $SC$ operations for a chosen number of timesteps. \n",
    "\n",
    "Quantum walks can also be extended to more complex graphs, as well as continous time evolution. For more in-depth information, we recomend the following reviews [3, 4, 5]\n",
    "\n",
    "---\n",
    "\n",
    "## Applications of quantum walks\n",
    "\n",
    "- In linear systems, quantum walks after a time $t$ have a variance of $\\sigma \\propto t$, as opposed to $$\\sigma \\propto \\sqrt{t}$, meaning that they propagate quadratically faster needing a time of order $\\mathcal{O}(d)$ to cover a distance $d$ instead of $\\mathcal{O}(d^2)$. This speedup becomes exponential when considering higher-dimensional graphs. For example, in a binary tree graph [7], the time to cover a distance $d$ is $\\mathcal{O}(2^d)$ for the classical walk, and $\\mathcal{O}(d^2)$ for the quantum walk!\n",
    "\n",
    "- Quantum search: Grover's algorithm[] is one of the most famous quantum algorithms for database search. It can find marked elements in a graph with a time of order $\\mathcal{O}(\\sqrt{N}M)$, where $N$ is the number of elements, and $M$ longest distance between two elements. However, quantum walks, can do better:\n",
    "    - In a Hypercube of $N=2^n$ vertices, Grover's search takes a time of order $\\mathcal{O}(\\sqrt{N}\\log{N})$, and a quantum walk takes $\\mathcal{O}(\\sqrt{N})$\n",
    "    - An even more stricking case is the one of a $\\sqrt{N}\\times \\sqrt{N}$ grid, where the traditional quantum searh has no speeup. Again, here the quantum walk achives the result in $\\mathcal{O}(\\sqrt{N})$ steps\n",
    "    - Further examples with speedups include element-distinctness problems and their derivates, for example triangle finding, where quantum walks perform better than other quantum search algorithms.\n",
    "\n",
    "- An example use case in applied science is photosynthesis modelling [10] , where a quantum was used to model the interaction of photons with the cloriphyl complex in plants.\n",
    "---\n",
    "\n",
    "## Circuit implementation of the quantum walk\n",
    "\n",
    "The steps to implement a quantum walk as a ciruit are the following:\n",
    "\n",
    "1. Initialization of the system: We need to define a register of qubits that will contain the position of the simulated particle. This register will store an integer number in binary form. In this notebook we will place the particle roughly in the center of the register range. For example if we have 4 qubits, we will initialize them as $\\lvert 1000\\rangle$, meaning the particle will be in position 7 of the range (0,15).\n",
    "\n",
    "2. Quantum walk loop: We will iterate these steps a number of times corresponding to the chosen lenght of our quantum walk:\n",
    "    2.1 Placing the coin in a superposition: We apply the coin operator $C$ to the coin register, for example a Hadamard gate. This is the quantum equivalent of the classical coin flip\n",
    "    2.2 Apply shift operator S, consisting on an addition and subtraction operators\n",
    "\n",
    "    $$\n",
    "    S = S_+ + S- = \\lvert 1 \\rangle\\langle 1 \\lvert \\otimes \\sum_{j}\\lvert j+1\\rangle \\langle j\\lvert \\quad+\\quad  \\lvert 0 \\rangle\\langle 0\\lvert \\otimes \\sum_{j}\\lvert j-1\\rangle \\langle j\\lvert\n",
    "    $$\n",
    "\n",
    "    This will be implemented through a X gate controlled by the coin qubit, to select the addition when it is in the state $\\lvert1\\rangle$ and the subtraction when it is in the state $\\lvert0\\rangle$. The tricky part is how to actually perform the additions and subtractions. Since we are working in a binary register, for a given digit, we will need to place controls on the less significant digits, to decide wehter it should be turned to 1 or 0. The algorithm will iterate through all the digits at every step of the walk, once for the addition operator, and once for the subtraction one.\n",
    "\n",
    "    2.3 Apply X gates to the position register to revert reset the qubits whose value \"passed\" onto the more significant qubits: For example if we have the state $\\lvert 01 \\rangle$ and we add +1 to it, the result of the multi-controlled gate will be $\\lvert 11 \\rangle$ which means we added +2!. We must then reset the first qubit to 0, $\\lvert 10 \\rangle$.\n",
    "\n",
    "3. Measurement of the position register: We finally place measurements on all the qubits (except the coin qubit) in the Z-basis, and convert the results from binary to decimal representation. After a number of iterations of the algorithm, we can make a histogram to visualize the probability distribution of the quantum walk.\n",
    "\n",
    " \n",
    "---\n",
    "## References\n",
    "\n",
    "\n",
    "[2] D. Meyer. From quantum cellular automata to quantum lattice gases, Journal of StatisticaPhysics, 85:551-574, 1996. Also quant-ph/9604003.\n",
    "\n",
    "[6] A. Childs, E. Farhi, S. Gutmann. An example of the diﬀerence between quantum and clas-\n",
    "sical random walks. Journal of Quantum Information Processing, 1:35, 2002. Also quant-\n",
    "ph/0103020.\n",
    "\n",
    "[10]Engel GS, Calhoun TR, Read EL, Ahn TK, Mancal T, Cheng YC et al. (2007). Evidence for wavelike energy transfer through quantum coherence in photosynthetic systems. Nature 446 (7137): 782–6."
   ]
  },
  {
   "cell_type": "markdown",
   "id": "76630015",
   "metadata": {},
   "source": [
    "### Imports"
   ]
  },
  {
   "cell_type": "code",
   "execution_count": 772,
   "id": "76a796fc",
   "metadata": {},
   "outputs": [],
   "source": [
    "from qilisdk.speqtrum import SpeQtrum\n",
    "\n",
    "import os\n",
    "from collections import Counter\n",
    "import matplotlib.pyplot as plt\n",
    "\n",
    "from qilisdk.backends import QutipBackend\n",
    "from qilisdk.digital import Circuit, H, CNOT, M, X, T, S\n",
    "from qilisdk.functionals import Sampling\n",
    "\n",
    "import matplotlib.pyplot as plt\n",
    "import numpy as np"
   ]
  },
  {
   "cell_type": "markdown",
   "id": "f42821c8",
   "metadata": {},
   "source": [
    "We select the Qutip backend of QiliSDK to build the circuits"
   ]
  },
  {
   "cell_type": "code",
   "execution_count": 420,
   "id": "ac91120b",
   "metadata": {},
   "outputs": [],
   "source": [
    "client = None\n",
    "backend = QutipBackend()"
   ]
  },
  {
   "cell_type": "markdown",
   "id": "3c9d0e1c",
   "metadata": {},
   "source": [
    "### Definition of Addition/Subtraction functions\n",
    "\n",
    "Here we define the addition and subtraction gates:\n",
    "\n",
    "Addition: \n",
    "- We loop starting from least significant qubit, and for each qubit in the position register we define the control qubits that include the coin qubit and all the less significant qubits.\n",
    "- We then apply a multi-controlled X gate on the qubit.\n",
    "- We apply an X gate to flip it's state after the information has passed onto the next qubit.\n",
    "\n",
    "Subtraction:\n",
    "\n",
    "- We repeat the steps for the addition but in reverse order\n"
   ]
  },
  {
   "cell_type": "code",
   "execution_count": 421,
   "id": "c12790fd",
   "metadata": {},
   "outputs": [],
   "source": [
    "def apply_addition(circuit, n_qubits, active):\n",
    "\n",
    "    for q in range(n_qubits, 0, -1):\n",
    "        controls = [active[i] for i in range(n_qubits, q - 1, -1)]\n",
    "\n",
    "        #decompose_multi_controlled_x(circuit, controls, active[q-1])\n",
    "        circuit.add(X(qubit = active[q-1]).controlled(*controls))\n",
    "\n",
    "        if q > 1:\n",
    "            circuit.add(X(active[q-1]))\n",
    "\n",
    "def apply_subtraction(circuit, n_qubits, active):\n",
    "    for q in range(1, n_qubits + 1):\n",
    "        controls = [active[i] for i in range(n_qubits, q - 1, -1)]\n",
    "\n",
    "        #decompose_multi_controlled_x(circuit, controls, active[q-1])\n",
    "        circuit.add(X(qubit = active[q-1]).controlled(*controls))\n",
    "\n",
    "        if q < n_qubits:\n",
    "            circuit.add(X(active[q]))\n"
   ]
  },
  {
   "cell_type": "markdown",
   "id": "842aa8a6",
   "metadata": {},
   "source": [
    "### Step function\n",
    "\n",
    "Contiains the circuit to perform a step of the walker, which includes placing the coin qubit in a superposition, and applying the addition and subtraction operators on the position register, with and X gate on the coin in between them to activate the subtraction."
   ]
  },
  {
   "cell_type": "code",
   "execution_count": 422,
   "id": "447196a3",
   "metadata": {},
   "outputs": [],
   "source": [
    "def walk_step(circuit, n_qubits, active, coin):\n",
    "\n",
    "    # Create superposition in coin qubit\n",
    "    circuit.add(H(coin))\n",
    "    circuit.add(X(coin))\n",
    "    apply_addition(circuit, n_qubits, active)\n",
    "    circuit.add(X(coin))\n",
    "    apply_subtraction(circuit, n_qubits, active)\n",
    "\n",
    "\n"
   ]
  },
  {
   "cell_type": "markdown",
   "id": "eb7b94e9",
   "metadata": {},
   "source": [
    "### Walking algorithm\n",
    "\n",
    "Contains an initialization of the position register and a loop containing a number of random walk steps that we chose, and finally the measurement operation on the position register."
   ]
  },
  {
   "cell_type": "code",
   "execution_count": 423,
   "id": "40e7980e",
   "metadata": {},
   "outputs": [],
   "source": [
    "def quantum_walk(circuit, N_qubits, ACTIVE, coin, n_steps):\n",
    "    #Initial state of graph register\n",
    "    circuit.add(X(ACTIVE[0]))\n",
    "    #Initial state of coin corresponding to $|down>$ state\n",
    "    circuit.add(X(coin)) \n",
    "\n",
    "    for _ in range(n_steps):\n",
    "        walk_step(circuit, N_qubits, ACTIVE, coin)\n",
    "\n",
    "    register = ACTIVE[0:N_qubits]\n",
    "\n",
    "    circuit.add(M(*register))\n",
    "    \n",
    "\n"
   ]
  },
  {
   "cell_type": "markdown",
   "id": "7932c9ce",
   "metadata": {},
   "source": [
    "## Main program\n",
    "\n",
    "We will use 7 qubits:\n",
    "\n",
    "0-5 will encode the position in the graph as a binary number (e.g. |000000> is position 0, |000101> is position 5, |111111> is position 63)\n",
    "\n",
    "6 will be the coin qubit"
   ]
  },
  {
   "cell_type": "code",
   "execution_count": 424,
   "id": "181696bf",
   "metadata": {},
   "outputs": [],
   "source": [
    "N_REG  = 5\n",
    "ACTIVE = [0, 1, 2, 3, 4]\n",
    "SHOTS  = 100\n",
    "\n",
    "\n",
    "circuit = Circuit(N_REG)\n",
    "\n",
    "n_position_register = N_REG -1\n",
    "coin = ACTIVE[-1]\n",
    "\n",
    "\n",
    "n_steps = 1\n",
    "\n",
    "\n",
    "quantum_walk(circuit, n_position_register, ACTIVE, coin, n_steps)\n",
    "\n"
   ]
  },
  {
   "cell_type": "markdown",
   "id": "a41c4be0",
   "metadata": {},
   "source": [
    "### Visual representation\n",
    "\n",
    "We can see a drawing of the circuit for 1 step of the walk. Here the initialization, addition, and subtraction steps can be seen clearly, with the measurement at the end"
   ]
  },
  {
   "cell_type": "code",
   "execution_count": 425,
   "id": "a74dc20f",
   "metadata": {},
   "outputs": [
    {
     "data": {
      "image/png": "[encoded data removed]",
      "text/plain": [
       "<Figure size 1969.41x1969.41 with 1 Axes>"
      ]
     },
     "metadata": {},
     "output_type": "display_data"
    }
   ],
   "source": [
    "circuit.draw()"
   ]
  },
  {
   "cell_type": "markdown",
   "id": "36ebd72d",
   "metadata": {},
   "source": [
    "## Execution\n",
    "\n",
    "The next step would be to execute the circuit with the sampling of QiliSKD. However, we will encounter an error, stating that controlled gates with 2 control qubits are not supported. This applies to all our multi-controlled X gates required for the position tracking of the state. \n",
    "\n",
    "Until a feature is added to perform those directly by the sampler, we need to find an alternative, which consists on decomposing the controlled gates into CNOT gates and single qubit gates. A modification of the algorithm to accomodate for that is shown in the cells below"
   ]
  },
  {
   "cell_type": "code",
   "execution_count": 426,
   "id": "163f89f6",
   "metadata": {},
   "outputs": [
    {
     "name": "stderr",
     "output_type": "stream",
     "text": [
      "\u001b[38;2;127;28;219mQiliSDK\u001b[0m | \u001b[32m2025-10-16 at 13:47:28\u001b[0m | \u001b[31m\u001b[1mERROR\u001b[0m | \u001b[31m\u001b[1m❌ Controlled gate with 2 control qubits not supported\u001b[0m\n"
     ]
    },
    {
     "ename": "UnsupportedGateError",
     "evalue": "",
     "output_type": "error",
     "traceback": [
      "\u001b[0;31m---------------------------------------------------------------------------\u001b[0m",
      "\u001b[0;31mUnsupportedGateError\u001b[0m                      Traceback (most recent call last)",
      "Cell \u001b[0;32mIn[426], line 1\u001b[0m\n\u001b[0;32m----> 1\u001b[0m result \u001b[38;5;241m=\u001b[39m \u001b[43mbackend\u001b[49m\u001b[38;5;241;43m.\u001b[39;49m\u001b[43mexecute\u001b[49m\u001b[43m(\u001b[49m\u001b[43mSampling\u001b[49m\u001b[43m(\u001b[49m\u001b[43mcircuit\u001b[49m\u001b[43m,\u001b[49m\u001b[43m \u001b[49m\u001b[43mSHOTS\u001b[49m\u001b[43m)\u001b[49m\u001b[43m)\u001b[49m\n",
      "File \u001b[0;32m~/Desktop/qilimanjaro/projects/quantum_walks/.venv/lib/python3.10/site-packages/qilisdk/backends/backend.py:66\u001b[0m, in \u001b[0;36mBackend.execute\u001b[0;34m(self, functional)\u001b[0m\n\u001b[1;32m     61\u001b[0m \u001b[38;5;28;01mexcept\u001b[39;00m \u001b[38;5;167;01mKeyError\u001b[39;00m \u001b[38;5;28;01mas\u001b[39;00m exc:\n\u001b[1;32m     62\u001b[0m     \u001b[38;5;28;01mraise\u001b[39;00m \u001b[38;5;167;01mNotImplementedError\u001b[39;00m(\n\u001b[1;32m     63\u001b[0m         \u001b[38;5;124mf\u001b[39m\u001b[38;5;124m\"\u001b[39m\u001b[38;5;132;01m{\u001b[39;00m\u001b[38;5;28mtype\u001b[39m(\u001b[38;5;28mself\u001b[39m)\u001b[38;5;241m.\u001b[39m\u001b[38;5;18m__qualname__\u001b[39m\u001b[38;5;132;01m}\u001b[39;00m\u001b[38;5;124m does not support \u001b[39m\u001b[38;5;132;01m{\u001b[39;00m\u001b[38;5;28mtype\u001b[39m(functional)\u001b[38;5;241m.\u001b[39m\u001b[38;5;18m__qualname__\u001b[39m\u001b[38;5;132;01m}\u001b[39;00m\u001b[38;5;124m\"\u001b[39m\n\u001b[1;32m     64\u001b[0m     ) \u001b[38;5;28;01mfrom\u001b[39;00m\u001b[38;5;250m \u001b[39m\u001b[38;5;21;01mexc\u001b[39;00m\n\u001b[0;32m---> 66\u001b[0m \u001b[38;5;28;01mreturn\u001b[39;00m \u001b[43mhandler\u001b[49m\u001b[43m(\u001b[49m\u001b[43mfunctional\u001b[49m\u001b[43m)\u001b[49m\n",
      "File \u001b[0;32m~/Desktop/qilimanjaro/projects/quantum_walks/.venv/lib/python3.10/site-packages/qilisdk/backends/backend.py:36\u001b[0m, in \u001b[0;36mBackend.__init__.<locals>.<lambda>\u001b[0;34m(f)\u001b[0m\n\u001b[1;32m     34\u001b[0m \u001b[38;5;28;01mdef\u001b[39;00m\u001b[38;5;250m \u001b[39m\u001b[38;5;21m__init__\u001b[39m(\u001b[38;5;28mself\u001b[39m) \u001b[38;5;241m-\u001b[39m\u001b[38;5;241m>\u001b[39m \u001b[38;5;28;01mNone\u001b[39;00m:\n\u001b[1;32m     35\u001b[0m     \u001b[38;5;28mself\u001b[39m\u001b[38;5;241m.\u001b[39m_handlers: \u001b[38;5;28mdict\u001b[39m[\u001b[38;5;28mtype\u001b[39m[Functional], Callable[[Functional], FunctionalResult]] \u001b[38;5;241m=\u001b[39m {\n\u001b[0;32m---> 36\u001b[0m         Sampling: \u001b[38;5;28;01mlambda\u001b[39;00m f: \u001b[38;5;28;43mself\u001b[39;49m\u001b[38;5;241;43m.\u001b[39;49m\u001b[43m_execute_sampling\u001b[49m\u001b[43m(\u001b[49m\u001b[43mcast\u001b[49m\u001b[43m(\u001b[49m\u001b[38;5;124;43m\"\u001b[39;49m\u001b[38;5;124;43mSampling\u001b[39;49m\u001b[38;5;124;43m\"\u001b[39;49m\u001b[43m,\u001b[49m\u001b[43m \u001b[49m\u001b[43mf\u001b[49m\u001b[43m)\u001b[49m\u001b[43m)\u001b[49m,\n\u001b[1;32m     37\u001b[0m         TimeEvolution: \u001b[38;5;28;01mlambda\u001b[39;00m f: \u001b[38;5;28mself\u001b[39m\u001b[38;5;241m.\u001b[39m_execute_time_evolution(cast(\u001b[38;5;124m\"\u001b[39m\u001b[38;5;124mTimeEvolution\u001b[39m\u001b[38;5;124m\"\u001b[39m, f)),\n\u001b[1;32m     38\u001b[0m         VariationalProgram: \u001b[38;5;28;01mlambda\u001b[39;00m f: \u001b[38;5;28mself\u001b[39m\u001b[38;5;241m.\u001b[39m_execute_variational_program(cast(\u001b[38;5;124m\"\u001b[39m\u001b[38;5;124mVariationalProgram\u001b[39m\u001b[38;5;124m\"\u001b[39m, f)),\n\u001b[1;32m     39\u001b[0m     }\n",
      "File \u001b[0;32m~/Desktop/qilimanjaro/projects/quantum_walks/.venv/lib/python3.10/site-packages/qilisdk/backends/qutip_backend.py:122\u001b[0m, in \u001b[0;36mQutipBackend._execute_sampling\u001b[0;34m(self, functional)\u001b[0m\n\u001b[1;32m    106\u001b[0m \u001b[38;5;250m\u001b[39m\u001b[38;5;124;03m\"\"\"\u001b[39;00m\n\u001b[1;32m    107\u001b[0m \u001b[38;5;124;03mExecute a quantum circuit and return the measurement results.\u001b[39;00m\n\u001b[1;32m    108\u001b[0m \n\u001b[0;32m   (...)\u001b[0m\n\u001b[1;32m    119\u001b[0m \n\u001b[1;32m    120\u001b[0m \u001b[38;5;124;03m\"\"\"\u001b[39;00m\n\u001b[1;32m    121\u001b[0m logger\u001b[38;5;241m.\u001b[39minfo(\u001b[38;5;124m\"\u001b[39m\u001b[38;5;124mExecuting Sampling (shots=\u001b[39m\u001b[38;5;132;01m{}\u001b[39;00m\u001b[38;5;124m)\u001b[39m\u001b[38;5;124m\"\u001b[39m, functional\u001b[38;5;241m.\u001b[39mnshots)\n\u001b[0;32m--> 122\u001b[0m qutip_circuit \u001b[38;5;241m=\u001b[39m \u001b[38;5;28;43mself\u001b[39;49m\u001b[38;5;241;43m.\u001b[39;49m\u001b[43m_get_qutip_circuit\u001b[49m\u001b[43m(\u001b[49m\u001b[43mfunctional\u001b[49m\u001b[38;5;241;43m.\u001b[39;49m\u001b[43mcircuit\u001b[49m\u001b[43m)\u001b[49m\n\u001b[1;32m    124\u001b[0m counts: Counter[\u001b[38;5;28mstr\u001b[39m] \u001b[38;5;241m=\u001b[39m Counter()\n\u001b[1;32m    125\u001b[0m init_state \u001b[38;5;241m=\u001b[39m tensor(\u001b[38;5;241m*\u001b[39m[basis(\u001b[38;5;241m2\u001b[39m, \u001b[38;5;241m0\u001b[39m) \u001b[38;5;28;01mfor\u001b[39;00m _ \u001b[38;5;129;01min\u001b[39;00m \u001b[38;5;28mrange\u001b[39m(functional\u001b[38;5;241m.\u001b[39mcircuit\u001b[38;5;241m.\u001b[39mnqubits)])\n",
      "File \u001b[0;32m~/Desktop/qilimanjaro/projects/quantum_walks/.venv/lib/python3.10/site-packages/qilisdk/backends/qutip_backend.py:309\u001b[0m, in \u001b[0;36mQutipBackend._get_qutip_circuit\u001b[0;34m(self, circuit)\u001b[0m\n\u001b[1;32m    307\u001b[0m \u001b[38;5;28;01mfor\u001b[39;00m gate \u001b[38;5;129;01min\u001b[39;00m circuit\u001b[38;5;241m.\u001b[39mgates:\n\u001b[1;32m    308\u001b[0m     \u001b[38;5;28;01mif\u001b[39;00m \u001b[38;5;28misinstance\u001b[39m(gate, Controlled):\n\u001b[0;32m--> 309\u001b[0m         \u001b[38;5;28;43mself\u001b[39;49m\u001b[38;5;241;43m.\u001b[39;49m\u001b[43m_handle_controlled\u001b[49m\u001b[43m(\u001b[49m\u001b[43mqutip_circuit\u001b[49m\u001b[43m,\u001b[49m\u001b[43m \u001b[49m\u001b[43mgate\u001b[49m\u001b[43m)\u001b[49m\n\u001b[1;32m    310\u001b[0m     \u001b[38;5;28;01melif\u001b[39;00m \u001b[38;5;28misinstance\u001b[39m(gate, Adjoint):\n\u001b[1;32m    311\u001b[0m         \u001b[38;5;28mself\u001b[39m\u001b[38;5;241m.\u001b[39m_handle_adjoint(qutip_circuit, gate)\n",
      "File \u001b[0;32m~/Desktop/qilimanjaro/projects/quantum_walks/.venv/lib/python3.10/site-packages/qilisdk/backends/qutip_backend.py:350\u001b[0m, in \u001b[0;36mQutipBackend._handle_controlled\u001b[0;34m(self, circuit, gate)\u001b[0m\n\u001b[1;32m    348\u001b[0m \u001b[38;5;28;01mif\u001b[39;00m \u001b[38;5;28mlen\u001b[39m(gate\u001b[38;5;241m.\u001b[39mcontrol_qubits) \u001b[38;5;241m!=\u001b[39m \u001b[38;5;241m1\u001b[39m:\n\u001b[1;32m    349\u001b[0m     logger\u001b[38;5;241m.\u001b[39merror(\u001b[38;5;124m\"\u001b[39m\u001b[38;5;124mControlled gate with \u001b[39m\u001b[38;5;132;01m{}\u001b[39;00m\u001b[38;5;124m control qubits not supported\u001b[39m\u001b[38;5;124m\"\u001b[39m, \u001b[38;5;28mlen\u001b[39m(gate\u001b[38;5;241m.\u001b[39mcontrol_qubits))\n\u001b[0;32m--> 350\u001b[0m     \u001b[38;5;28;01mraise\u001b[39;00m UnsupportedGateError\n\u001b[1;32m    352\u001b[0m \u001b[38;5;28;01mdef\u001b[39;00m\u001b[38;5;250m \u001b[39m\u001b[38;5;21mqutip_controlled_gate\u001b[39m() \u001b[38;5;241m-\u001b[39m\u001b[38;5;241m>\u001b[39m Qobj:\n\u001b[1;32m    353\u001b[0m     \u001b[38;5;28;01mreturn\u001b[39;00m QutipGates\u001b[38;5;241m.\u001b[39mcontrolled_gate(Qobj(gate\u001b[38;5;241m.\u001b[39mbasic_gate\u001b[38;5;241m.\u001b[39mmatrix), controls\u001b[38;5;241m=\u001b[39m\u001b[38;5;241m0\u001b[39m, targets\u001b[38;5;241m=\u001b[39m\u001b[38;5;241m1\u001b[39m)\n",
      "\u001b[0;31mUnsupportedGateError\u001b[0m: "
     ]
    }
   ],
   "source": [
    "result = backend.execute(Sampling(circuit, SHOTS))"
   ]
  },
  {
   "cell_type": "markdown",
   "id": "7504630b",
   "metadata": {},
   "source": [
    "## Decomposing Multi-controlled gates\n",
    "\n",
    "We implement a function that takes a gate with several controls and decomposes it into CNOT gates and single-qubit gates\n",
    "\n",
    "If the number of controls is larger than 2 in calls the function reduce_dimensionality that takes two control qubits and an ancilla qubit and combines the conditionals of the two controls in the ancilla. Then the ancilla is added as a control, the new lists of controls and ancillas is returned. \n",
    "\n",
    "Once there's only 2 controls (or in the reduce_dimensionality function) the Toffoli gate is applied, which has an expression in terms of CNOTs and one-qubit gates. This allows to decompose any multi-controlled gate provided we have enough ancilla qubits"
   ]
  },
  {
   "cell_type": "code",
   "execution_count": 814,
   "id": "44bd77b0",
   "metadata": {},
   "outputs": [],
   "source": [
    "# def add_multicontrolled_decomposed(circuit, target, controls, ancillas):\n",
    "#     \"\"\"\n",
    "#     Decomposes multi-controlled X gate into CNOTs and single-qubit gates\n",
    "#     \"\"\"\n",
    "#     #Only one control apply CNOT\n",
    "#     if len(controls) == 1:\n",
    "#         circuit.add(CNOT(controls[0], target))\n",
    "\n",
    "#     #2 controls apply toffoli\n",
    "#     elif len(controls) == 2:\n",
    "#         add_toffoli(circuit, target, controls)\n",
    "\n",
    "#     #More tha 2 controls, we need to decompose to reduce controls by one, and call recursively until we have only 1 or 2 controls\n",
    "#     else:\n",
    "#         controls, ancillas = reduce_dimensionality(circuit, controls, ancillas)\n",
    "#         add_multicontrolled_decomposed(circuit, target, controls, ancillas)\n",
    "    \n",
    "\n",
    "def add_toffoli(c, t, controls):\n",
    "    # redefine control variables (c=circuit, t=target)\n",
    "    c1 = controls[0]\n",
    "    c2 = controls[1]\n",
    "\n",
    "    #toffoli circuit\n",
    "    c.add(H(t))\n",
    "    c.add(CNOT(c1, t))\n",
    "    c.add(T(t).adjoint())\n",
    "    c.add(CNOT(c2, t))\n",
    "    c.add(T(t))\n",
    "    c.add(CNOT(c1, t))\n",
    "    c.add(T(t).adjoint())\n",
    "    c.add(CNOT(c2, t))\n",
    "    c.add(T(t))\n",
    "    c.add(T(c1))\n",
    "    c.add(H(t))\n",
    "    c.add(CNOT(c2, c1))\n",
    "    c.add(T(c2))\n",
    "    c.add(T(c1).adjoint())\n",
    "    c.add(CNOT(c2, c1))\n",
    "\n",
    "# def reduce_dimensionality(circuit, controls, ancillas):\n",
    "#     \"\"\"\n",
    "#     Uses an ancilla qubit to reduce the number of controls by one.\n",
    "#     Encodes the AND of the first two controls into an ancilla qubit.\n",
    "#     \"\"\"\n",
    "#     if len(ancillas) == 0:\n",
    "#         raise ValueError(\"Not enough ancilla qubits\")\n",
    "\n",
    "#     # Take first two controls and one ancilla\n",
    "#     c1 = controls[0]\n",
    "#     c2 = controls[1]\n",
    "#     anc = ancillas[0]\n",
    "\n",
    "#     # Compute anc = c1 AND c2 (store in ancilla)\n",
    "#     # This is effectively a Toffoli(c1, c2, anc)\n",
    "#     add_toffoli(circuit, anc, [c1, c2])\n",
    "\n",
    "#     # Replace the first two controls by this ancilla\n",
    "#     new_controls = [anc] + controls[2:]\n",
    "#     # Eliminate ancilla from available list\n",
    "#     new_ancillas = ancillas[1:]\n",
    "\n",
    "#     return new_controls, new_ancillas\n",
    "\n",
    "\n",
    "\n",
    "def add_multicontrolled_decomposed(circuit, target, controls, ancillas):\n",
    "    \"\"\"\n",
    "    Decomposes multi-controlled X gate into CNOTs and single-qubit gates,\n",
    "    with proper uncomputation of ancillas.\n",
    "    \"\"\"\n",
    "    if len(controls) == 1:\n",
    "        circuit.add(CNOT(controls[0], target))\n",
    "    elif len(controls) == 2:\n",
    "        add_toffoli(circuit, target, controls)\n",
    "    else:\n",
    "        # Prepare ancilla\n",
    "        new_controls, new_ancillas, used_ancilla = reduce_dimensionality(circuit, controls, ancillas)\n",
    "        # Recursive MCX with reduced controls\n",
    "        add_multicontrolled_decomposed(circuit, target, new_controls, new_ancillas)\n",
    "        # Uncompute ancilla (reverse Toffoli)\n",
    "        add_toffoli(circuit, used_ancilla, controls[:2])  # Uncompute\n",
    "        print(used_ancilla)\n",
    "        \n",
    "\n",
    "def reduce_dimensionality(circuit, controls, ancillas):\n",
    "    \"\"\"\n",
    "    Uses an ancilla qubit to reduce the number of controls by one.\n",
    "    Returns new_controls, new_ancillas, used_ancilla.\n",
    "    \"\"\"\n",
    "    if len(ancillas) == 0:\n",
    "        raise ValueError(\"Not enough ancilla qubits\")\n",
    "    c1 = controls[0]\n",
    "    c2 = controls[1]\n",
    "    anc = ancillas[0]\n",
    "    # Compute anc = c1 AND c2\n",
    "    add_toffoli(circuit, anc, [c1, c2])\n",
    "    # Replace first two controls by ancilla\n",
    "    new_controls = [anc] + controls[2:]\n",
    "    new_ancillas = ancillas[1:]\n",
    "    return new_controls, new_ancillas, anc"
   ]
  },
  {
   "cell_type": "markdown",
   "id": "41ff36a1",
   "metadata": {},
   "source": [
    "## Updated algorithm\n",
    "\n",
    "The rest of the algorithm is the same, only that we need to be more careful with how we manage the position and ancilla registers"
   ]
  },
  {
   "cell_type": "code",
   "execution_count": 815,
   "id": "49a1f38c",
   "metadata": {},
   "outputs": [],
   "source": [
    "def apply_addition(circuit, walk_register, ancilla_register, coin):\n",
    "\n",
    "    for i, q in enumerate(reversed(walk_register)):\n",
    "        actual_index = len(walk_register) - 1 - i\n",
    "        controls = walk_register[actual_index+1:] + [coin]\n",
    "\n",
    "        #circuit.add(X(qubit = q).controlled(*controls))\n",
    "        add_multicontrolled_decomposed(circuit, q, controls, ancilla_register)\n",
    "\n",
    "        if i < len(walk_register)-1:\n",
    "            circuit.add(X(q))\n",
    "\n",
    "def apply_subtraction(circuit, walk_register, ancilla_register, coin):\n",
    "\n",
    "    for i, q in enumerate(walk_register):\n",
    "\n",
    "        controls = walk_register[i+1:] + [coin]\n",
    "        \n",
    "        #circuit.add(X(qubit = q).controlled(*controls))\n",
    "        add_multicontrolled_decomposed(circuit, q, controls, ancilla_register)\n",
    "\n",
    "        if i < len(walk_register)-1:\n",
    "            circuit.add(X(walk_register[i+1]))\n",
    "\n",
    "\n",
    "\n",
    "def walk_step(circuit, walk_register, ancilla_register, coin):\n",
    "\n",
    "    # Create superposition in coin qubit\n",
    "    circuit.add(H(coin))\n",
    "    circuit.add(X(coin))\n",
    "\n",
    "    apply_addition(circuit, walk_register, ancilla_register, coin)\n",
    "    circuit.add(X(coin))\n",
    "    apply_subtraction(circuit, walk_register, ancilla_register, coin)\n",
    "    circuit.add(X(coin))\n",
    "\n",
    "\n",
    "\n",
    "def quantum_walk(circuit, walk_register, ancilla_register, coin, n_steps):\n",
    "\n",
    "    #Initial state of graph register\n",
    "    circuit.add(X(walk_register[0]))\n",
    "    \n",
    "    for _ in range(n_steps):\n",
    "        walk_step(circuit, walk_register, ancilla_register, coin)\n",
    "\n",
    "    circuit.add(M(*walk_register))"
   ]
  },
  {
   "cell_type": "markdown",
   "id": "f92cc42c",
   "metadata": {},
   "source": [
    "## Main program\n",
    "\n",
    "Once we define the list of available qubits, we need to separate them into the position and ancilla registers, checking that if we take $n$ position qubits, the ancilla contains at least $n-2$ qubits."
   ]
  },
  {
   "cell_type": "code",
   "execution_count": 816,
   "id": "41f823d1",
   "metadata": {},
   "outputs": [
    {
     "name": "stdout",
     "output_type": "stream",
     "text": [
      "List of active qubits: [0, 1, 2, 3, 4]\n",
      "List of quantum walk qubits: [0, 1, 2]  size: 3\n",
      "List of ancilla qubits: [3] size: 1\n",
      "Coin qubit [4]\n"
     ]
    }
   ],
   "source": [
    "N_REG  = 5\n",
    "ACTIVE = [i for i in range(N_REG)] #Additionally a custom list of active qubits can be defined\n",
    "SHOTS  = 10000\n",
    "n_steps = 3\n",
    "\n",
    "circuit = Circuit(N_REG)\n",
    "\n",
    "available_qubits = len(ACTIVE)\n",
    "\n",
    "coin = ACTIVE[-1]\n",
    "\n",
    "walk_register_size = available_qubits//2 + (0 if available_qubits%2 == 0 else 1) #For odd number of qubits we can use half the total number plus 1\n",
    "walk_register = ACTIVE[0: walk_register_size]\n",
    "\n",
    "ancilla_size = available_qubits - walk_register_size -1\n",
    "ancilla_register = ACTIVE[walk_register_size:available_qubits-1]\n",
    "\n",
    "#Display main information about register partition\n",
    "print(\"List of active qubits:\",ACTIVE)\n",
    "print(\"List of quantum walk qubits:\", walk_register,\" size:\", walk_register_size)\n",
    "print(\"List of ancilla qubits:\", ancilla_register, \"size:\", ancilla_size)\n",
    "print(\"Coin qubit\", [coin])"
   ]
  },
  {
   "cell_type": "markdown",
   "id": "3d41c62b",
   "metadata": {},
   "source": [
    "## Execution\n",
    "\n",
    "Now we can build the circuit with the modified algorithm and execute it using the sampler"
   ]
  },
  {
   "cell_type": "code",
   "execution_count": 817,
   "id": "3ead27fe",
   "metadata": {},
   "outputs": [
    {
     "name": "stdout",
     "output_type": "stream",
     "text": [
      "3\n",
      "3\n",
      "3\n",
      "3\n",
      "3\n",
      "3\n"
     ]
    }
   ],
   "source": [
    "quantum_walk(circuit, walk_register, ancilla_register, coin, n_steps)\n",
    "#circuit.draw() #uncomment to view full decomposed circuit, use for small circuits only\n",
    "result = backend.execute(Sampling(circuit, SHOTS)) "
   ]
  },
  {
   "cell_type": "code",
   "execution_count": 811,
   "id": "68ee7443",
   "metadata": {},
   "outputs": [
    {
     "name": "stdout",
     "output_type": "stream",
     "text": [
      "SamplingResult(\n",
      "  nshots=10000,\n",
      "  samples={'001': 1226, '011': 6298, '101': 1228, '111': 1248}\n",
      ")\n"
     ]
    }
   ],
   "source": [
    "print(result)"
   ]
  },
  {
   "cell_type": "markdown",
   "id": "67761b3b",
   "metadata": {},
   "source": [
    "## Plotting\n",
    "\n",
    "In order to plot the results we first convert the bit strings into integers, and store them along with their simulation results. Then we plot a histogram of the obtained values"
   ]
  },
  {
   "cell_type": "code",
   "execution_count": 812,
   "id": "0503bf75",
   "metadata": {},
   "outputs": [],
   "source": [
    "def plot_result_histogram(results, title=\"Quantum Walk Results\", plot_type='probability', \n",
    "                        figsize=(12, 6), color='steelblue', show_values=True):\n",
    "    \"\"\"\n",
    "    Enhanced function to plot quantum walk results with multiple options\n",
    "    \n",
    "    Parameters:\n",
    "    - results: Counter or dict with {position: count} or {binary_string: count}\n",
    "    - title: plot title\n",
    "    - plot_type: 'probability', 'counts', or 'log'\n",
    "    - figsize: figure size\n",
    "    - color: bar color\n",
    "    - show_values: whether to show values on bars\n",
    "    \"\"\"\n",
    "    \n",
    "    # Process results\n",
    "    positions = []\n",
    "    counts = []\n",
    "    \n",
    "    for key, count in results.items():\n",
    "        if isinstance(key, str):\n",
    "            positions.append(int(key, 2))\n",
    "        else:\n",
    "            positions.append(key)\n",
    "        counts.append(count)\n",
    "    \n",
    "    # Sort by position\n",
    "    sorted_indices = np.argsort(positions)\n",
    "    positions = [positions[i] for i in sorted_indices]\n",
    "    counts = [counts[i] for i in sorted_indices]\n",
    "    \n",
    "    # Calculate y-values based on plot type\n",
    "    if plot_type == 'probability':\n",
    "        total = sum(counts)\n",
    "        y_values = [count / total for count in counts]\n",
    "        ylabel = 'Probability'\n",
    "    elif plot_type == 'log':\n",
    "        y_values = [np.log10(count + 1) for count in counts]  # +1 to avoid log(0)\n",
    "        ylabel = 'Log10(Count + 1)'\n",
    "    else:  # counts\n",
    "        y_values = counts\n",
    "        ylabel = 'Counts'\n",
    "    \n",
    "    # Create plot\n",
    "    plt.figure(figsize=figsize)\n",
    "    bars = plt.bar(positions, y_values, alpha=0.7, color=color, \n",
    "                   edgecolor='darkblue', linewidth=0.8)\n",
    "    \n",
    "    # Styling\n",
    "    plt.title(title, fontsize=16, fontweight='bold', pad=20)\n",
    "    plt.xlabel('Position', fontsize=12)\n",
    "    plt.ylabel(ylabel, fontsize=12)\n",
    "    plt.grid(True, alpha=0.3, axis='y')\n",
    "    \n",
    "    # Customize x-axis\n",
    "    plt.xticks(positions, fontsize=10)\n",
    "    if len(positions) > 15:\n",
    "        plt.xticks(positions[::2])  # Show every other tick for crowded plots\n",
    "    \n",
    "    # Add value labels\n",
    "    if show_values:\n",
    "        for bar, count, pos in zip(bars, counts, positions):\n",
    "            height = bar.get_height()\n",
    "            if plot_type == 'probability':\n",
    "                label = f'{height:.3f}'\n",
    "            elif plot_type == 'log':\n",
    "                label = f'{count}'\n",
    "            else:\n",
    "                label = f'{count}'\n",
    "            \n",
    "            plt.text(bar.get_x() + bar.get_width()/2., height + 0.01 * max(y_values),\n",
    "                    label, ha='center', va='bottom', fontsize=8, rotation=0)\n",
    "    \n",
    "    plt.tight_layout()\n",
    "    plt.show()\n",
    "    \n",
    "    return positions, counts"
   ]
  },
  {
   "cell_type": "code",
   "execution_count": 813,
   "id": "422764fe",
   "metadata": {},
   "outputs": [
    {
     "data": {
      "image/png": "[encoded data removed]",
      "text/plain": [
       "<Figure size 1200x600 with 1 Axes>"
      ]
     },
     "metadata": {},
     "output_type": "display_data"
    },
    {
     "data": {
      "text/plain": [
       "([1, 3, 5, 7], [1226, 6298, 1228, 1248])"
      ]
     },
     "execution_count": 813,
     "metadata": {},
     "output_type": "execute_result"
    }
   ],
   "source": [
    "plot_result_histogram(result.samples, \"Quantum Walk Distribution\")"
   ]
  },
  {
   "cell_type": "markdown",
   "id": "2410ea01",
   "metadata": {},
   "source": [
    "As you can observe, this distribution is biased to one side instead of being symmetric. This is due to the initialization of our coin qubit, which started in the state $\\lvert 0\\rangle$. As mentioned above, the choice of initialization of the coin affects the distribution of the results. In this case, the application of Hadamard gates on the coin qubit at each time step favours the subtraction operator due to the asymetry in the diagonal terms of the Hadamard transformation. We can chose a different initialization and see how the results change:"
   ]
  },
  {
   "cell_type": "code",
   "execution_count": 788,
   "id": "14d248b1",
   "metadata": {},
   "outputs": [],
   "source": [
    "def quantum_walk(circuit, walk_register, ancilla_register, coin, n_steps):\n",
    "\n",
    "    #Initial state of graph register\n",
    "    circuit.add(X(walk_register[0]))\n",
    "    \n",
    "    #Alternative initialization\n",
    "    circuit.add(H(coin))\n",
    "    circuit.add(S(coin))\n",
    "\n",
    "    for _ in range(n_steps):\n",
    "        walk_step(circuit, walk_register, ancilla_register, coin)\n",
    "\n",
    "    circuit.add(M(*walk_register))"
   ]
  },
  {
   "cell_type": "code",
   "execution_count": 789,
   "id": "edbebb3e",
   "metadata": {},
   "outputs": [],
   "source": [
    "circuit = Circuit(N_REG)\n",
    "\n",
    "quantum_walk(circuit, walk_register, ancilla_register, coin, n_steps)\n",
    "result = backend.execute(Sampling(circuit, SHOTS)) "
   ]
  },
  {
   "cell_type": "code",
   "execution_count": 790,
   "id": "0a5a99fe",
   "metadata": {},
   "outputs": [
    {
     "data": {
      "image/png": "[encoded data removed]",
      "text/plain": [
       "<Figure size 1200x600 with 1 Axes>"
      ]
     },
     "metadata": {},
     "output_type": "display_data"
    },
    {
     "data": {
      "text/plain": [
       "([1, 3, 5, 7], [1221, 1186, 3781, 3812])"
      ]
     },
     "execution_count": 790,
     "metadata": {},
     "output_type": "execute_result"
    }
   ],
   "source": [
    "plot_result_histogram(result.samples, \"Quantum Walk Distribution\")"
   ]
  },
  {
   "cell_type": "code",
   "execution_count": null,
   "id": "3961a334",
   "metadata": {},
   "outputs": [],
   "source": []
  }
 ],
 "metadata": {
  "kernelspec": {
   "display_name": ".venv",
   "language": "python",
   "name": "python3"
  },
  "language_info": {
   "codemirror_mode": {
    "name": "ipython",
    "version": 3
   },
   "file_extension": ".py",
   "mimetype": "text/x-python",
   "name": "python",
   "nbconvert_exporter": "python",
   "pygments_lexer": "ipython3",
   "version": "3.10.18"
  }
 },
 "nbformat": 4,
 "nbformat_minor": 5
}
